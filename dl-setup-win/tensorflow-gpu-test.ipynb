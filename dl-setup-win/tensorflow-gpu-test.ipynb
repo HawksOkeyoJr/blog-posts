{
 "cells": [
  {
   "cell_type": "markdown",
   "metadata": {},
   "source": [
    "# Validating Tensorflow installation - GPU"
   ]
  },
  {
   "cell_type": "code",
   "execution_count": 1,
   "metadata": {
    "scrolled": false
   },
   "outputs": [
    {
     "name": "stdout",
     "output_type": "stream",
     "text": [
      "2.1.0\n"
     ]
    }
   ],
   "source": [
    "# first import tensorflow\n",
    "import tensorflow as tf\n",
    "\n",
    "# Check the tensorflow version\n",
    "# If this results in an error, probably there is something wrong with the installation\n",
    "print(tf.__version__)"
   ]
  },
  {
   "cell_type": "code",
   "execution_count": 2,
   "metadata": {},
   "outputs": [
    {
     "data": {
      "text/plain": [
       "[PhysicalDevice(name='/physical_device:GPU:0', device_type='GPU')]"
      ]
     },
     "execution_count": 2,
     "metadata": {},
     "output_type": "execute_result"
    }
   ],
   "source": [
    "# Instant validation\n",
    "tf.config.list_physical_devices('GPU')"
   ]
  },
  {
   "cell_type": "code",
   "execution_count": 3,
   "metadata": {
    "scrolled": true
   },
   "outputs": [
    {
     "name": "stdout",
     "output_type": "stream",
     "text": [
      "################## GPU: 0 ##########################\n",
      "Device Type: GPU\n",
      "GPU ID: /device:GPU:0\n",
      "Physical Device Description:\n",
      "\tdevice: 0, name: GeForce RTX 2060 with Max-Q Design, pci bus id: 0000:01:00.0, compute capability: 7.5\n",
      "####################################################\n"
     ]
    }
   ],
   "source": [
    "# Import Tensorflow utility device_lib to get more information about the GPU\n",
    "# This will help verify if TF is using the intended GPU\n",
    "from tensorflow.python.client import device_lib\n",
    "\n",
    "# Helper function to get information about all available GPUs in a list\n",
    "def get_available_gpus():\n",
    "    local_device_protos = device_lib.list_local_devices()\n",
    "    return [x for x in local_device_protos if x.device_type == 'GPU']\n",
    "    \n",
    "\n",
    "# Get information of all available GPUs\n",
    "gpu_info = get_available_gpus()\n",
    "\n",
    "# Display GPU information\n",
    "for i, gpu in enumerate(gpu_info):\n",
    "    print(f\"################## GPU: {i} ##########################\")\n",
    "    print(f\"Device Type: {gpu.device_type}\")\n",
    "    print(f\"GPU ID: {gpu.name}\")\n",
    "    print(f\"Physical Device Description:\\n\\t{gpu.physical_device_desc}\")\n",
    "    print(\"####################################################\")"
   ]
  }
 ],
 "metadata": {
  "kernelspec": {
   "display_name": "Python 3.7 (tensorflow)",
   "language": "python",
   "name": "tensorflow"
  },
  "language_info": {
   "codemirror_mode": {
    "name": "ipython",
    "version": 3
   },
   "file_extension": ".py",
   "mimetype": "text/x-python",
   "name": "python",
   "nbconvert_exporter": "python",
   "pygments_lexer": "ipython3",
   "version": "3.7.9"
  }
 },
 "nbformat": 4,
 "nbformat_minor": 4
}
